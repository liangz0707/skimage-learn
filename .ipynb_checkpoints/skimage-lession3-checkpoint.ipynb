{
 "cells": [
  {
   "cell_type": "markdown",
   "metadata": {},
   "source": [
    "#4.Image adjustment\n",
    "本节介绍skimage对图像的内容进行操作"
   ]
  },
  {
   "cell_type": "markdown",
   "metadata": {},
   "source": [
    "###颜色操作\n",
    "在skimage.color模块当中有很多操纵颜色通道的函数。\n",
    "\n",
    "1. 颜色空间之间的转换：（颜色空间的知识参考：https://en.wikipedia.org/wiki/Color_space）"
   ]
  },
  {
   "cell_type": "code",
   "execution_count": 3,
   "metadata": {
    "collapsed": true
   },
   "outputs": [],
   "source": [
    "import skimage\n",
    "import numpy as np\n",
    "from skimage import color"
   ]
  },
  {
   "cell_type": "code",
   "execution_count": 6,
   "metadata": {
    "collapsed": false
   },
   "outputs": [
    {
     "name": "stdout",
     "output_type": "stream",
     "text": [
      "[[[ 0.  1.  1.]]]\n"
     ]
    }
   ],
   "source": [
    "red_pixel_rgb = np.array([[[255, 0, 0]]], dtype=np.uint8)\n",
    "print color.rgb2hsv(red_pixel_rgb) #整形的类型会转换成浮点数，从RGB转换成HSV"
   ]
  },
  {
   "cell_type": "markdown",
   "metadata": {},
   "source": [
    "2. 彩色和灰度图之间的转换：rgb2gray()"
   ]
  },
  {
   "cell_type": "code",
   "execution_count": 7,
   "metadata": {
    "collapsed": false
   },
   "outputs": [
    {
     "name": "stdout",
     "output_type": "stream",
     "text": [
      "[[ 0.2125]]\n",
      "[[ 0.7154]]\n"
     ]
    }
   ],
   "source": [
    "from skimage.color import rgb2gray\n",
    "from skimage import data\n",
    "img = data.astronaut()\n",
    "img_gray = rgb2gray(img)#三个通道并非使用的是均值，因为人眼对不同通道感知不同。\n",
    "red_pixel = np.array([[[255, 0, 0]]], dtype=np.uint8)\n",
    "print color.rgb2gray(red_pixel)\n",
    "green_pixel = np.array([[[0, 255, 0]]], dtype=np.uint8)\n",
    "print color.rgb2gray(green_pixel)"
   ]
  },
  {
   "cell_type": "markdown",
   "metadata": {},
   "source": [
    "1. Painting images with labels： label2rgb() "
   ]
  },
  {
   "cell_type": "markdown",
   "metadata": {},
   "source": [
    "###Contrast and exposure\n",
    "1. skimage.exposure:\n",
    "dtype决定了图片像素的值： 255 for uint8 images or [0, 1] for floating-point images,但是某些图片的像素值分布范围很小（小于该类型可分布的最大范围），通过该函数就能扩展这个范围。\n",
    "\n",
    "2. 纠正非线性感知器或者接收器。例如Gamma纠正，在adjust_gamma()中实现\n",
    "\n",
    "3. 像素值重分布。原始的直方图是skimage.exposure.histogram()来进行计算，"
   ]
  },
  {
   "cell_type": "code",
   "execution_count": 8,
   "metadata": {
    "collapsed": false
   },
   "outputs": [
    {
     "name": "stdout",
     "output_type": "stream",
     "text": [
      "(array([3, 0, 1], dtype=int64), array([1, 2, 3]))\n"
     ]
    }
   ],
   "source": [
    "image = np.array([[1, 3], [1, 1]])\n",
    "print skimage.exposure.histogram(image) #返回数量和bin的中心\n",
    "#np.histogram()返回的是bin和bin的边界"
   ]
  },
  {
   "cell_type": "code",
   "execution_count": 10,
   "metadata": {
    "collapsed": false
   },
   "outputs": [
    {
     "name": "stdout",
     "output_type": "stream",
     "text": [
      "10 197\n",
      "0 255\n"
     ]
    }
   ],
   "source": [
    "#最简单的对比度增强：rescale_intensity() \n",
    "from skimage import exposure\n",
    "text = data.text()\n",
    "print text.min(), text.max()\n",
    "better_contrast = exposure.rescale_intensity(text)\n",
    "print better_contrast.min(), better_contrast.max()"
   ]
  },
  {
   "cell_type": "markdown",
   "metadata": {},
   "source": [
    "equalize_hist()将积分函数映射到某个线性函数上，保证值得分布部分别等于途中所表示的部分。\n",
    "\n",
    "equalize_adapthist()增强子区域"
   ]
  }
 ],
 "metadata": {
  "kernelspec": {
   "display_name": "Python 2",
   "language": "python",
   "name": "python2"
  },
  "language_info": {
   "codemirror_mode": {
    "name": "ipython",
    "version": 2
   },
   "file_extension": ".py",
   "mimetype": "text/x-python",
   "name": "python",
   "nbconvert_exporter": "python",
   "pygments_lexer": "ipython2",
   "version": "2.7.10"
  }
 },
 "nbformat": 4,
 "nbformat_minor": 0
}
