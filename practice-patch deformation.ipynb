{
 "cells": [
  {
   "cell_type": "markdown",
   "metadata": {},
   "source": [
    "#这里主要进行patch变形"
   ]
  },
  {
   "cell_type": "code",
   "execution_count": 22,
   "metadata": {
    "collapsed": false
   },
   "outputs": [
    {
     "name": "stdout",
     "output_type": "stream",
     "text": [
      "Populating the interactive namespace from numpy and matplotlib\n"
     ]
    }
   ],
   "source": [
    "# -*- coding: utf-8 -*-\n",
    "__author__ = 'Zhe'\n",
    "%pylab inline\n",
    "import theano\n",
    "import numpy as np\n",
    "import theano.tensor as T\n",
    "import matplotlib.pyplot as plt\n",
    "import matplotlib.cm as cm\n",
    "from skimage import io\n",
    "import skimage\n",
    "from theano.tensor.nnet import conv #接触theano进行卷积操作\n",
    "import time\n",
    "from pylab import mpl\n",
    "\n"
   ]
  },
  {
   "cell_type": "code",
   "execution_count": 10,
   "metadata": {
    "collapsed": true
   },
   "outputs": [],
   "source": [
    "'''\n",
    "输入两个patch，返回变形的（u,v）向量\n",
    "'''\n",
    "#解决matlibplot当中中文显示问题\n",
    "mpl.rcParams['font.sans-serif'] = ['SimHei'] #指定默认字体\n"
   ]
  },
  {
   "cell_type": "code",
   "execution_count": 26,
   "metadata": {
    "collapsed": true
   },
   "outputs": [],
   "source": [
    "#这里并非优化W而是优化(u,v)\n",
    "class deformed_patch(object):\n",
    "    def __init__(self):\n",
    "        pass\n",
    "\n",
    "    def getXYGrad(self,input):\n",
    "        ylen = input.shape[0]\n",
    "        xlen = input.shape[1]\n",
    "        #这个输入需要改变成一维的，为了借助Theano的函数\n",
    "        src = T.dmatrix() #定义输入图像数组 二维、单通道\n",
    "\n",
    "        #这个滤波器\n",
    "        filter_shape = np.asarray([2,1,2,2],dtype='int')\n",
    "        image_shape = np.asarray([1,1,ylen,xlen],dtype='int') #就是实际图像的大小\n",
    "\n",
    "        #从src向dst变化\n",
    "        src = src.reshape((1, 1, ylen, xlen))\n",
    "\n",
    "        #计算两个方向的梯度\n",
    "        Wx=np.asarray([[1,-1],[0,0]],dtype='float64') #结果是W+Wx\n",
    "        Wy=np.asarray([[1,0],[-1,0]],dtype='float64') #\n",
    "        W=np.zeros(filter_shape)\n",
    "        W[0,0]=Wx\n",
    "        W[1,0]=Wy\n",
    "        #print W.shape\n",
    "        #print filter_shape.shape\n",
    "        #print image_shape.shape\n",
    "        #首先需要计算梯度\n",
    "        src_xd = conv.conv2d(\n",
    "                input=src,\n",
    "                filters=W,\n",
    "                filter_shape=filter_shape,\n",
    "                image_shape=image_shape\n",
    "            )#卷积会忽略边界\n",
    "\n",
    "        getGradXY = theano.function([src],src_xd)\n",
    "\n",
    "        #input = [[1,1,1,1,1,1,1],[2,2,2,2,2,2,2],[3,3,3,3,3,3,3],[4,4,4,4,4,4,4],[5,5,5,5,5,5,5],[6,6,6,6,6,6,6],[7,7,7,7,7,7,7]]\n",
    "        input = np.asarray(input,dtype='float64')\n",
    "        input=input.reshape((1,1,ylen,xlen))\n",
    "        #print input.shape\n",
    "        c = getGradXY(input)\n",
    "        #print c.shape\n",
    "        #这里得到的c[0]是x方向的导数，c[1]是y方向的导数\n",
    "        c = c.reshape((c.shape[1],c.shape[2],c.shape[3]))\n",
    "        #plt.imshow(c[1])\n",
    "        return (c[0],c[1])\n",
    "    #输入两块相同大小并且有略微变形的patch，计算变形程度(U,V)\n",
    "    def getUV(self,img_in,img_out):\n",
    "        print( img_in.dtype,img_in.shape)\n",
    "\n",
    "        xlen = img_in.shape[1]\n",
    "        ylen = img_in.shape[0]\n",
    "\n",
    "        img_out# = img_out.reshape((1, 1, ylen, xlen))\n",
    "        img_in #= img_in.reshape((1, 1, ylen, xlen))\n",
    "\n",
    "        src_in = T.dmatrix()\n",
    "        dst_in = T.dmatrix()\n",
    "\n",
    "        src_in = src_in - T.sum(src_in)/(xlen*ylen)\n",
    "        dst_in = dst_in - T.sum(dst_in)/(xlen*ylen)\n",
    "\n",
    "        src = src_in.reshape((1, 1, ylen, xlen))\n",
    "        dst = dst_in.reshape((1, 1, ylen, xlen))\n",
    "\n",
    "        #声明两个方向平移域\n",
    "        u = theano.shared(\n",
    "                value=np.zeros([1, 1, ylen, xlen],dtype=theano.config.floatX),\n",
    "                borrow=True\n",
    "            )\n",
    "        v = theano.shared(\n",
    "                value=np.zeros([1, 1, ylen, xlen],dtype=theano.config.floatX),\n",
    "                borrow=True\n",
    "            )\n",
    "        print u\"声明结束\"\n",
    "\n",
    "        filter_shape = np.asarray([2,1,2,2],dtype='int')\n",
    "        image_shape = np.asarray([1,1,ylen,xlen],dtype='int') #就是实际图像的大小\n",
    "\n",
    "        #计算两个方向的梯度\n",
    "        Wx=np.asarray([[-1,1],[0,0]],dtype='float64') #结果是W+Wx\n",
    "        Wy=np.asarray([[-1,0],[1,0]],dtype='float64') #\n",
    "        W=np.zeros(filter_shape)\n",
    "        W[0,0]=Wx\n",
    "        W[1,0]=Wy\n",
    "        print W.shape\n",
    "        #print filter_shape.shape\n",
    "        #print image_shape.shape\n",
    "        #首先需要计算梯度\n",
    "        src_grad = conv.conv2d(\n",
    "                input=src,\n",
    "                filters=W,\n",
    "                filter_shape=filter_shape,\n",
    "                image_shape=image_shape,\n",
    "                border_mode=\"full\"\n",
    "            )#卷积会忽略边界\n",
    "\n",
    "        print u\"梯度计算结束\"\n",
    "\n",
    "        #--v*src_grad[1,2,:,:])**2\n",
    "        ''' '''\n",
    "        gu = conv.conv2d(\n",
    "                input=src,\n",
    "                filters=W,\n",
    "                filter_shape=filter_shape,\n",
    "                image_shape=image_shape\n",
    "            )#卷积会忽略边界\n",
    "        gv = conv.conv2d(\n",
    "                input=src,\n",
    "                filters=W,\n",
    "                filter_shape=filter_shape,\n",
    "                image_shape=image_shape\n",
    "            )#卷积会忽略边界\n",
    "\n",
    "        cost = T.sum((dst - src+u*src_grad[0,1,0:ylen,0:xlen]+v*src_grad[0,0,0:ylen,0:xlen])**2)+0.1*T.mean(gv**2+gu**2)#+0.05*T.mean(v**2+u**2)\n",
    "        params = [u,v]\n",
    "        grads = T.grad(cost, params)#所有的梯度\n",
    "        updates = [\n",
    "            (param_i, param_i - 0.5 * grad_i)\n",
    "            for param_i, grad_i in zip(params, grads)\n",
    "        ]\n",
    "\n",
    "        print u\"create\"\n",
    "        train_model = theano.function(\n",
    "            [src_in,dst_in],\n",
    "            [cost,src_grad],\n",
    "            updates=updates,\n",
    "        )\n",
    "\n",
    "        #theano.printing.pydotprint(train_model, outfile=\"tree.png\", var_with_name_simple=True)\n",
    "        print u\"compute\"\n",
    "        g=[]\n",
    "        a = time.time()\n",
    "\n",
    "        for i in xrange(100):\n",
    "            [c,g] = train_model(img_in,img_out)\n",
    "            #print c\n",
    "        b = time.time()\n",
    "        #print b-a\n",
    "\n",
    "        '''\n",
    "        p = theano.function([src_in],src_grad)\n",
    "        c = p(img_in)\n",
    "\n",
    "        print c.dtype,c.shape\n",
    "        '''\n",
    "        img_in=img_in.reshape((1, 1, ylen, xlen))\n",
    "        img_in=img_in[0,0,0:ylen,0:xlen]\n",
    "        cp=img_in-u.get_value()*g[0,1,0:ylen,0:xlen]-v.get_value()*g[0,0,0:ylen,0:xlen]\n",
    "        return (u.get_value(),v.get_value(),cp)\n"
   ]
  },
  {
   "cell_type": "code",
   "execution_count": 27,
   "metadata": {
    "collapsed": false
   },
   "outputs": [
    {
     "name": "stdout",
     "output_type": "stream",
     "text": [
      "(dtype('float64'), (9L, 9L))\n",
      "声明结束\n",
      "(2L, 1L, 2L, 2L)\n",
      "梯度计算结束\n",
      "create\n",
      "compute\n"
     ]
    },
    {
     "data": {
      "image/png": "[encoded data removed]",
      "text/plain": [
       "<matplotlib.figure.Figure at 0x22cfc630>"
      ]
     },
     "metadata": {},
     "output_type": "display_data"
    }
   ],
   "source": [
    "dp = deformed_patch()\n",
    "'''\n",
    "img = io.imread(\"F:\\\\tec_learn\\\\pythonGUI-learn\\\\res\\\\2.jpg\")\n",
    "\n",
    "#plt.imshow(img)\n",
    "i = img[:,:,1]\n",
    "print i.shape\n",
    "(gx,gy) = dp.getXYGrad(i)\n",
    "\n",
    "plt.imshow(gy,cmap=cm.gray)\n",
    "plt.show()\n",
    "'''\n",
    "img_in = io.imread(\"F:\\\\learning\\\\pythonGUI-learn\\\\res\\\\c1.jpg\")\n",
    "img_out = io.imread(\"F:\\\\learning\\\\pythonGUI-learn\\\\res\\\\c2.jpg\")\n",
    "\n",
    "(u,v,cp) = dp.getUV(skimage.img_as_float(img_in[:,:,1]),skimage.img_as_float(img_out[:,:,1]))\n",
    "#print (u.dtype,u.shape)\n",
    "u=u.reshape(u.shape[2],u.shape[3])\n",
    "v=v.reshape(v.shape[2],v.shape[3])\n",
    "cp=cp.reshape(cp.shape[2],cp.shape[3])\n",
    "plt.subplot(2,3,1)\n",
    "plt.title(u\"x方向位移幅度\")\n",
    "plt.imshow(v,cmap=cm.gray)\n",
    "plt.subplot(2,3,4)\n",
    "plt.title(u\"y方向位移幅度\")\n",
    "plt.imshow(u,cmap=cm.gray)\n",
    "plt.subplot(2,3,2)\n",
    "plt.title(u\"输入\")\n",
    "plt.imshow(skimage.img_as_float(img_in[:,:,1]),cmap=cm.gray)\n",
    "plt.subplot(2,3,3)\n",
    "plt.title(u\"变形目标\")\n",
    "plt.imshow(cp,cmap=cm.gray)\n",
    "plt.subplot(2,3,6)\n",
    "plt.title(u\"变形结果\")\n",
    "plt.imshow(skimage.img_as_float(img_out[:,:,1]),cmap=cm.gray)\n",
    "plt.show()\n",
    "cp = np.asarray(cp,dtype='float64')\n",
    "#print cp\n",
    "#print skimage.img_as_float(img_out[:,:,1])"
   ]
  },
  {
   "cell_type": "code",
   "execution_count": null,
   "metadata": {
    "collapsed": true
   },
   "outputs": [],
   "source": [
    "#deformed_patch 方法是先搜索后求解， 能否避免搜索直接求解？ 修改约束方程，？\n",
    "class deformed_patch2(object):\n",
    "    def __init__(self):\n",
    "        pass\n"
   ]
  }
 ],
 "metadata": {
  "kernelspec": {
   "display_name": "Python 2",
   "language": "python",
   "name": "python2"
  },
  "language_info": {
   "codemirror_mode": {
    "name": "ipython",
    "version": 2
   },
   "file_extension": ".py",
   "mimetype": "text/x-python",
   "name": "python",
   "nbconvert_exporter": "python",
   "pygments_lexer": "ipython2",
   "version": "2.7.10"
  }
 },
 "nbformat": 4,
 "nbformat_minor": 0
}
