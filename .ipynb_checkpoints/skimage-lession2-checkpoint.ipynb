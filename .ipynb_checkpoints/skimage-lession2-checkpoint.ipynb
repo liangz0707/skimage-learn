{
 "cells": [
  {
   "cell_type": "markdown",
   "metadata": {},
   "source": [
    "#3.Image data types and what they mean"
   ]
  },
  {
   "cell_type": "markdown",
   "metadata": {},
   "source": [
    "在图像的表示过程中，下面是不同的numpy数据类型以及其对应的范围：\n",
    "<table border=\"1\" class=\"docutils\">\n",
    "<colgroup>\n",
    "<col width=\"21%\">\n",
    "<col width=\"79%\">\n",
    "</colgroup>\n",
    "<thead valign=\"bottom\">\n",
    "<tr class=\"row-odd\"><th class=\"head\">Data type</th>\n",
    "<th class=\"head\">Range</th>\n",
    "</tr>\n",
    "</thead>\n",
    "<tbody valign=\"top\">\n",
    "<tr class=\"row-even\"><td>uint8</td>\n",
    "<td>0 to 255</td>\n",
    "</tr>\n",
    "<tr class=\"row-odd\"><td>uint16</td>\n",
    "<td>0 to 65535</td>\n",
    "</tr>\n",
    "<tr class=\"row-even\"><td>uint32</td>\n",
    "<td>0 to 2<sup>32</sup></td>\n",
    "</tr>\n",
    "<tr class=\"row-odd\"><td>float</td>\n",
    "<td>-1 to 1 or 0 to 1</td>\n",
    "</tr>\n",
    "<tr class=\"row-even\"><td>int8</td>\n",
    "<td>-128 to 127</td>\n",
    "</tr>\n",
    "<tr class=\"row-odd\"><td>int16</td>\n",
    "<td>-32768 to 32767</td>\n",
    "</tr>\n",
    "<tr class=\"row-even\"><td>int32</td>\n",
    "<td>-2<sup>31</sup> to 2<sup>31</sup> - 1</td>\n",
    "</tr>\n",
    "</tbody>\n",
    "</table>\n",
    "\n",
    "浮点数需要约束在-1到1之间，而其他的类型，均可以分布在其完整的类型范围上。64（u）bit不被支持。\n",
    "skimage函数可以支持以上各各种类型，但是为了方便，很多函数可以指定返回类型。\n",
    "\n",
    "但是由于某些函数只支持一部分的数据类型，所以也可以用函数进行转换图像类型之后再作为输入。\n",
    "<table border=\"1\" class=\"docutils\">\n",
    "<colgroup>\n",
    "<col width=\"28%\">\n",
    "<col width=\"72%\">\n",
    "</colgroup>\n",
    "<thead valign=\"bottom\">\n",
    "<tr class=\"row-odd\"><th class=\"head\">Function name</th>\n",
    "<th class=\"head\">Description</th>\n",
    "</tr>\n",
    "</thead>\n",
    "<tbody valign=\"top\">\n",
    "<tr class=\"row-even\"><td>img_as_float</td>\n",
    "<td>Convert to 64-bit floating point.</td>\n",
    "</tr>\n",
    "<tr class=\"row-odd\"><td>img_as_ubyte</td>\n",
    "<td>Convert to 8-bit uint.</td>\n",
    "</tr>\n",
    "<tr class=\"row-even\"><td>img_as_uint</td>\n",
    "<td>Convert to 16-bit uint.</td>\n",
    "</tr>\n",
    "<tr class=\"row-odd\"><td>img_as_int</td>\n",
    "<td>Convert to 16-bit int.</td>\n",
    "</tr>\n",
    "</tbody>\n",
    "</table>\n",
    "\n",
    "如果以上的转换损失了精确度会有警告"
   ]
  },
  {
   "cell_type": "code",
   "execution_count": 2,
   "metadata": {
    "collapsed": false
   },
   "outputs": [
    {
     "name": "stderr",
     "output_type": "stream",
     "text": [
      "D:\\develop_kits\\Python\\WinPython27\\python-2.7.10.amd64\\lib\\site-packages\\skimage\\util\\dtype.py:111: UserWarning: Possible precision loss when converting from float64 to uint8\n",
      "  \"%s to %s\" % (dtypeobj_in, dtypeobj))\n"
     ]
    },
    {
     "data": {
      "text/plain": [
       "array([  0, 128, 255], dtype=uint8)"
      ]
     },
     "execution_count": 2,
     "metadata": {},
     "output_type": "execute_result"
    }
   ],
   "source": [
    "from skimage import img_as_ubyte\n",
    "import numpy as np\n",
    "image = np.array([0, 0.5, 1], dtype=float)\n",
    "img_as_ubyte(image)"
   ]
  },
  {
   "cell_type": "markdown",
   "metadata": {},
   "source": [
    "在某些情况下，函数拥有preserve_range参数，因为范围转换虽然方便，但是并不是必须的。例如：transform.warp方法需要浮点数，所有的输入会默认被转换成浮点数。然而在某些情况下，并不希望进行转换，因为拥有物理意义，例如降雨量、温度。这样就可以使用preserve_range=True参数。范围不变，但是类型会变。"
   ]
  },
  {
   "cell_type": "code",
   "execution_count": 6,
   "metadata": {
    "collapsed": false
   },
   "outputs": [
    {
     "name": "stdout",
     "output_type": "stream",
     "text": [
      "uint8 1 252 (303L, 384L)\n",
      "(dtype('float64'), 0.0147, 0.9456, (152L, 192L))\n",
      "float64 4.0 241.0 (152L, 192L)\n"
     ]
    }
   ],
   "source": [
    "from skimage import data\n",
    "from skimage.transform import rescale\n",
    "image = data.coins()\n",
    "print image.dtype, image.min(), image.max(), image.shape\n",
    "rescaled = rescale(image, 0.5)\n",
    "print (rescaled.dtype, np.round(rescaled.min(), 4),np.round(rescaled.max(), 4), rescaled.shape)\n",
    "rescaled = rescale(image, 0.5, preserve_range=True)\n",
    "print rescaled.dtype, np.round(rescaled.min()),np.round(rescaled.max()), rescaled.shape"
   ]
  },
  {
   "cell_type": "markdown",
   "metadata": {},
   "source": [
    "##其他重要的内容\n",
    "\n",
    "1.输出类型有函数的作者决定，需要使用者具体说明转换成什么类型，如果需要具体的类型写作：\n",
    "\n",
    "out = img_as_uint(sobel(image))\n",
    "\n",
    "2.Image processing pipeline,这个模块的函数允许吧所有的函数串联起来，如果需要自己定义的函数同样可以\n",
    "\n",
    "3.数值的缩放：避免盲目的缩放，例如：有的以12bit存储一个像素，但是在python中存在了16bit中那么它一定不会覆盖[min,max]，如果缩放了，那么破坏原来的实际范围。可以使用如下方法进行固定范围的转换：\n",
    "\n",
    ">from skimage import exposure\n",
    "\n",
    ">image = exposure.rescale_intensity(img10bit, in_range=(0, 2**10 - 1))\n",
    "\n",
    "或者写作\n",
    ">image = exposure.rescale_intensity(img10bit, in_range='uint10')\n",
    "\n",
    "4.关于负数\n",
    "当从有符号向无符号转变时 负数会变成0，有符号类型之间转换时负数会被保留。"
   ]
  }
 ],
 "metadata": {
  "kernelspec": {
   "display_name": "Python 2",
   "language": "python",
   "name": "python2"
  },
  "language_info": {
   "codemirror_mode": {
    "name": "ipython",
    "version": 2
   },
   "file_extension": ".py",
   "mimetype": "text/x-python",
   "name": "python",
   "nbconvert_exporter": "python",
   "pygments_lexer": "ipython2",
   "version": "2.7.10"
  }
 },
 "nbformat": 4,
 "nbformat_minor": 0
}
