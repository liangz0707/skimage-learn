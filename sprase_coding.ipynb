{
 "cells": [
  {
   "cell_type": "markdown",
   "metadata": {},
   "source": [
    "#使用稀疏编码"
   ]
  },
  {
   "cell_type": "code",
   "execution_count": 12,
   "metadata": {
    "collapsed": false
   },
   "outputs": [
    {
     "name": "stdout",
     "output_type": "stream",
     "text": [
      "Populating the interactive namespace from numpy and matplotlib\n"
     ]
    },
    {
     "name": "stderr",
     "output_type": "stream",
     "text": [
      "WARNING: pylab import has clobbered these variables: ['clf']\n",
      "`%matplotlib` prevents importing * from pylab and numpy\n"
     ]
    }
   ],
   "source": [
    "# coding:utf-8\n",
    "%pylab inline\n",
    "import random\n",
    "import math\n",
    "import numpy as np\n",
    "import scipy.io\n",
    "from scipy import misc\n",
    "import matplotlib.pyplot as plt\n",
    "import matplotlib.cm as cm\n",
    "\n",
    "import SpraseCoding.sparse_coding as sc"
   ]
  },
  {
   "cell_type": "code",
   "execution_count": null,
   "metadata": {
    "collapsed": false
   },
   "outputs": [],
   "source": [
    "def callback(X, B, S):\n",
    "    plt.subplot(2, 2, 1)\n",
    "    visualize_patches(X)\n",
    "    plt.title(\"originals\")\n",
    "    plt.subplot(2, 2, 2)\n",
    "    visualize_patches(B)\n",
    "    plt.title(\"bases\")\n",
    "    plt.subplot(2, 2, 3)\n",
    "    visualize_patches(np.dot(B, S))\n",
    "    plt.title(\"reconstructions\")\n",
    "    plt.subplot(2, 2, 4)\n",
    "    visualize_patches(X - np.dot(B, S))\n",
    "    plt.title(\"differences\")\n",
    "    plt.show()\n",
    "\n",
    "#images = scipy.io.loadmat(\"IMAGES.mat\")[\"IMAGES\"]\n",
    "images = misc.lena() #获取一张图片\n",
    "patch_size = 8 #获取patch的尺寸\n",
    "num_patches = 4000 #获取patch的数量\n",
    "columns = []\n",
    "for i in xrange(num_patches): #0、1、2、...、num_patches循环\n",
    "    #j = random.randint(0, images.shape[2] - 1)  #任意的选择一个通道\n",
    "    y, x = [random.randint(0, images.shape[d] - patch_size) for d in (0, 1)] #任意的产生一组坐标\n",
    "    #column = images[x:x+patch_size, y:y+patch_size, j].reshape((patch_size**2, 1)) #提取某一通道上的patch\n",
    "    column = images[x:x+patch_size, y:y+patch_size].reshape((patch_size**2, 1)) #提取patch，单通道不需要j，并且变为列向量\n",
    "    columns.append(column)\n",
    "X = np.hstack(columns)\n",
    "X = np.asarray(X,dtype='float64')\n",
    "print (X.shape,X.dtype)\n",
    "# test callback function on svd\n",
    "#svd = np.linalg.svd(X, full_matrices=False)\n",
    "#print [x.shape for x in svd]\n",
    "#callback(X, svd[0], np.dot(np.diag(svd[1]), svd[2]))\n",
    "\n",
    "num_bases = 64#要产生基的个数\n",
    "sc.sparse_coding(X, num_bases, 0.4, 100, lambda B, S: callback(X, B, S))\n"
   ]
  },
  {
   "cell_type": "code",
   "execution_count": 10,
   "metadata": {
    "collapsed": false
   },
   "outputs": [
    {
     "data": {
      "text/plain": [
       "['filename.pkl', 'filename.pkl_01.npy']"
      ]
     },
     "execution_count": 10,
     "metadata": {},
     "output_type": "execute_result"
    }
   ],
   "source": [
    "from sklearn.externals import joblib\n",
    "import numpy as np\n",
    "c= np.asarray([3])\n",
    "\n",
    "joblib.dump(clf, 'filename.pkl') "
   ]
  },
  {
   "cell_type": "code",
   "execution_count": 11,
   "metadata": {
    "collapsed": false
   },
   "outputs": [
    {
     "name": "stdout",
     "output_type": "stream",
     "text": [
      "[3]\n"
     ]
    }
   ],
   "source": [
    "a = joblib.load('filename.pkl')\n",
    "print a"
   ]
  },
  {
   "cell_type": "code",
   "execution_count": null,
   "metadata": {
    "collapsed": true
   },
   "outputs": [],
   "source": []
  }
 ],
 "metadata": {
  "kernelspec": {
   "display_name": "Python 2",
   "language": "python",
   "name": "python2"
  },
  "language_info": {
   "codemirror_mode": {
    "name": "ipython",
    "version": 2
   },
   "file_extension": ".py",
   "mimetype": "text/x-python",
   "name": "python",
   "nbconvert_exporter": "python",
   "pygments_lexer": "ipython2",
   "version": "2.7.10"
  }
 },
 "nbformat": 4,
 "nbformat_minor": 0
}
